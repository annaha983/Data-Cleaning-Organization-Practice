{
 "cells": [
  {
   "cell_type": "code",
   "execution_count": 1,
   "metadata": {},
   "outputs": [],
   "source": [
    "import pandas as pd\n",
    "import numpy as np\n",
    "from sklearn.impute import SimpleImputer"
   ]
  },
  {
   "cell_type": "code",
   "execution_count": 4,
   "metadata": {},
   "outputs": [],
   "source": [
    "data = pd.read_excel('customer_data.xlsx') # read the data"
   ]
  },
  {
   "cell_type": "code",
   "execution_count": 5,
   "metadata": {},
   "outputs": [
    {
     "data": {
      "text/plain": [
       "array([3, 4, 1, 2, 5, 'XXXX'], dtype=object)"
      ]
     },
     "execution_count": 5,
     "metadata": {},
     "output_type": "execute_result"
    }
   ],
   "source": [
    "unique_values = data['Customer_Lifespan_Months'].unique()   # get the unique values of the column. These are values of different data types.\n",
    "unique_values"
   ]
  },
  {
   "cell_type": "code",
   "execution_count": 6,
   "metadata": {},
   "outputs": [],
   "source": [
    "data = data[data['Customer_Lifespan_Months'] != 'XXXX'] # remove the rows with 'XXXX' value"
   ]
  },
  {
   "cell_type": "code",
   "execution_count": 7,
   "metadata": {},
   "outputs": [
    {
     "data": {
      "text/plain": [
       "array([3, 4, 1, 2, 5], dtype=object)"
      ]
     },
     "execution_count": 7,
     "metadata": {},
     "output_type": "execute_result"
    }
   ],
   "source": [
    "data['Customer_Lifespan_Months'].unique() # check the unique values again"
   ]
  },
  {
   "cell_type": "code",
   "execution_count": 8,
   "metadata": {},
   "outputs": [],
   "source": [
    "data['Customer_Lifespan_Months'] = data['Customer_Lifespan_Months'].astype(int) # convert the column to integer"
   ]
  },
  {
   "cell_type": "code",
   "execution_count": 10,
   "metadata": {},
   "outputs": [],
   "source": [
    "data['Date_of_Purchase'] = data['Date_of_Purchase'].astype('datetime64[ns]') # convert the column to datetime  \n"
   ]
  },
  {
   "cell_type": "code",
   "execution_count": 11,
   "metadata": {},
   "outputs": [
    {
     "data": {
      "text/plain": [
       "CustomerID                          object\n",
       "Gender                              object\n",
       "Age                                  int64\n",
       "Income                             float64\n",
       "City                                object\n",
       "Region                              object\n",
       "Frequency_of_Purchases               int64\n",
       "Average_Purchase_Amount            float64\n",
       "Customer_Lifespan_Months             int64\n",
       "Purchase_Channel                    object\n",
       "Date_of_Purchase            datetime64[ns]\n",
       "Churn_Status                        object\n",
       "dtype: object"
      ]
     },
     "execution_count": 11,
     "metadata": {},
     "output_type": "execute_result"
    }
   ],
   "source": [
    "data.dtypes # check the data types of the columns"
   ]
  },
  {
   "cell_type": "code",
   "execution_count": 12,
   "metadata": {},
   "outputs": [
    {
     "data": {
      "text/html": [
       "<div>\n",
       "<style scoped>\n",
       "    .dataframe tbody tr th:only-of-type {\n",
       "        vertical-align: middle;\n",
       "    }\n",
       "\n",
       "    .dataframe tbody tr th {\n",
       "        vertical-align: top;\n",
       "    }\n",
       "\n",
       "    .dataframe thead th {\n",
       "        text-align: right;\n",
       "    }\n",
       "</style>\n",
       "<table border=\"1\" class=\"dataframe\">\n",
       "  <thead>\n",
       "    <tr style=\"text-align: right;\">\n",
       "      <th></th>\n",
       "      <th>CustomerID</th>\n",
       "      <th>Gender</th>\n",
       "      <th>Age</th>\n",
       "      <th>Income</th>\n",
       "      <th>City</th>\n",
       "      <th>Region</th>\n",
       "      <th>Frequency_of_Purchases</th>\n",
       "      <th>Average_Purchase_Amount</th>\n",
       "      <th>Customer_Lifespan_Months</th>\n",
       "      <th>Purchase_Channel</th>\n",
       "      <th>Date_of_Purchase</th>\n",
       "      <th>Churn_Status</th>\n",
       "    </tr>\n",
       "  </thead>\n",
       "  <tbody>\n",
       "    <tr>\n",
       "      <th>0</th>\n",
       "      <td>C001</td>\n",
       "      <td>Male</td>\n",
       "      <td>49</td>\n",
       "      <td>72504.0</td>\n",
       "      <td>Chicago</td>\n",
       "      <td>Northeast</td>\n",
       "      <td>10</td>\n",
       "      <td>98.241</td>\n",
       "      <td>3</td>\n",
       "      <td>Online</td>\n",
       "      <td>2022-03-05</td>\n",
       "      <td>Yes</td>\n",
       "    </tr>\n",
       "    <tr>\n",
       "      <th>1</th>\n",
       "      <td>C002</td>\n",
       "      <td>Female</td>\n",
       "      <td>38</td>\n",
       "      <td>40881.0</td>\n",
       "      <td>New York</td>\n",
       "      <td>West</td>\n",
       "      <td>15</td>\n",
       "      <td>157.640</td>\n",
       "      <td>4</td>\n",
       "      <td>In-store</td>\n",
       "      <td>2023-07-08</td>\n",
       "      <td>Yes</td>\n",
       "    </tr>\n",
       "    <tr>\n",
       "      <th>2</th>\n",
       "      <td>C003</td>\n",
       "      <td>Male</td>\n",
       "      <td>17</td>\n",
       "      <td>63333.0</td>\n",
       "      <td>New York</td>\n",
       "      <td>Northeast</td>\n",
       "      <td>1</td>\n",
       "      <td>41.252</td>\n",
       "      <td>1</td>\n",
       "      <td>Online</td>\n",
       "      <td>2023-01-30</td>\n",
       "      <td>No</td>\n",
       "    </tr>\n",
       "    <tr>\n",
       "      <th>3</th>\n",
       "      <td>C004</td>\n",
       "      <td>Male</td>\n",
       "      <td>34</td>\n",
       "      <td>58030.0</td>\n",
       "      <td>Chicago</td>\n",
       "      <td>Midwest</td>\n",
       "      <td>6</td>\n",
       "      <td>67.329</td>\n",
       "      <td>1</td>\n",
       "      <td>In-store</td>\n",
       "      <td>2023-06-01</td>\n",
       "      <td>No</td>\n",
       "    </tr>\n",
       "    <tr>\n",
       "      <th>4</th>\n",
       "      <td>C005</td>\n",
       "      <td>Male</td>\n",
       "      <td>30</td>\n",
       "      <td>78889.0</td>\n",
       "      <td>Houston</td>\n",
       "      <td>Midwest</td>\n",
       "      <td>3</td>\n",
       "      <td>52.763</td>\n",
       "      <td>1</td>\n",
       "      <td>Online</td>\n",
       "      <td>2022-09-23</td>\n",
       "      <td>No</td>\n",
       "    </tr>\n",
       "  </tbody>\n",
       "</table>\n",
       "</div>"
      ],
      "text/plain": [
       "  CustomerID  Gender  Age  ...  Purchase_Channel Date_of_Purchase Churn_Status\n",
       "0       C001    Male   49  ...            Online       2022-03-05          Yes\n",
       "1       C002  Female   38  ...          In-store       2023-07-08          Yes\n",
       "2       C003    Male   17  ...            Online       2023-01-30           No\n",
       "3       C004    Male   34  ...          In-store       2023-06-01           No\n",
       "4       C005    Male   30  ...            Online       2022-09-23           No\n",
       "\n",
       "[5 rows x 12 columns]"
      ]
     },
     "execution_count": 12,
     "metadata": {},
     "output_type": "execute_result"
    }
   ],
   "source": [
    "data.head()"
   ]
  }
 ],
 "metadata": {
  "kernelspec": {
   "display_name": "Python 3",
   "language": "python",
   "name": "python3"
  },
  "language_info": {
   "codemirror_mode": {
    "name": "ipython",
    "version": 3
   },
   "file_extension": ".py",
   "mimetype": "text/x-python",
   "name": "python",
   "nbconvert_exporter": "python",
   "pygments_lexer": "ipython3",
   "version": "3.11.0"
  }
 },
 "nbformat": 4,
 "nbformat_minor": 2
}
