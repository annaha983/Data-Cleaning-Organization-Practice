{
 "cells": [
  {
   "cell_type": "code",
   "execution_count": 2,
   "metadata": {},
   "outputs": [],
   "source": [
    "#sort.sort_values(by = columns title, ascending = organization order pick true or false.)\n",
    "import pandas as pd\n",
    "import numpy as np"
   ]
  },
  {
   "cell_type": "code",
   "execution_count": 3,
   "metadata": {},
   "outputs": [
    {
     "data": {
      "text/html": [
       "<div>\n",
       "<style scoped>\n",
       "    .dataframe tbody tr th:only-of-type {\n",
       "        vertical-align: middle;\n",
       "    }\n",
       "\n",
       "    .dataframe tbody tr th {\n",
       "        vertical-align: top;\n",
       "    }\n",
       "\n",
       "    .dataframe thead th {\n",
       "        text-align: right;\n",
       "    }\n",
       "</style>\n",
       "<table border=\"1\" class=\"dataframe\">\n",
       "  <thead>\n",
       "    <tr style=\"text-align: right;\">\n",
       "      <th></th>\n",
       "      <th>CustomerID</th>\n",
       "      <th>Gender</th>\n",
       "      <th>Age</th>\n",
       "      <th>Income</th>\n",
       "      <th>City</th>\n",
       "      <th>Region</th>\n",
       "      <th>Frequency_of_Purchases</th>\n",
       "      <th>Average_Purchase_Amount</th>\n",
       "      <th>Customer_Lifespan_Months</th>\n",
       "      <th>Purchase_Channel</th>\n",
       "      <th>Date_of_Purchase</th>\n",
       "      <th>Churn_Status</th>\n",
       "    </tr>\n",
       "  </thead>\n",
       "  <tbody>\n",
       "    <tr>\n",
       "      <th>0</th>\n",
       "      <td>C001</td>\n",
       "      <td>Male</td>\n",
       "      <td>49</td>\n",
       "      <td>72504.0</td>\n",
       "      <td>Chicago</td>\n",
       "      <td>Northeast</td>\n",
       "      <td>10</td>\n",
       "      <td>98.241</td>\n",
       "      <td>3</td>\n",
       "      <td>Online</td>\n",
       "      <td>2022-03-05</td>\n",
       "      <td>Yes</td>\n",
       "    </tr>\n",
       "    <tr>\n",
       "      <th>1</th>\n",
       "      <td>C002</td>\n",
       "      <td>Female</td>\n",
       "      <td>38</td>\n",
       "      <td>40881.0</td>\n",
       "      <td>New York</td>\n",
       "      <td>West</td>\n",
       "      <td>15</td>\n",
       "      <td>157.640</td>\n",
       "      <td>4</td>\n",
       "      <td>In-store</td>\n",
       "      <td>2023-07-08</td>\n",
       "      <td>Yes</td>\n",
       "    </tr>\n",
       "    <tr>\n",
       "      <th>2</th>\n",
       "      <td>C003</td>\n",
       "      <td>Male</td>\n",
       "      <td>17</td>\n",
       "      <td>63333.0</td>\n",
       "      <td>New York</td>\n",
       "      <td>Northeast</td>\n",
       "      <td>1</td>\n",
       "      <td>41.252</td>\n",
       "      <td>1</td>\n",
       "      <td>Online</td>\n",
       "      <td>2023-01-30</td>\n",
       "      <td>No</td>\n",
       "    </tr>\n",
       "    <tr>\n",
       "      <th>3</th>\n",
       "      <td>C004</td>\n",
       "      <td>Male</td>\n",
       "      <td>34</td>\n",
       "      <td>58030.0</td>\n",
       "      <td>Chicago</td>\n",
       "      <td>Midwest</td>\n",
       "      <td>6</td>\n",
       "      <td>67.329</td>\n",
       "      <td>1</td>\n",
       "      <td>In-store</td>\n",
       "      <td>2023-06-01</td>\n",
       "      <td>No</td>\n",
       "    </tr>\n",
       "    <tr>\n",
       "      <th>4</th>\n",
       "      <td>C005</td>\n",
       "      <td>Male</td>\n",
       "      <td>30</td>\n",
       "      <td>78889.0</td>\n",
       "      <td>Houston</td>\n",
       "      <td>Midwest</td>\n",
       "      <td>3</td>\n",
       "      <td>52.763</td>\n",
       "      <td>1</td>\n",
       "      <td>Online</td>\n",
       "      <td>2022-09-23</td>\n",
       "      <td>No</td>\n",
       "    </tr>\n",
       "  </tbody>\n",
       "</table>\n",
       "</div>"
      ],
      "text/plain": [
       "  CustomerID  Gender  Age   Income      City     Region  \\\n",
       "0       C001    Male   49  72504.0   Chicago  Northeast   \n",
       "1       C002  Female   38  40881.0  New York       West   \n",
       "2       C003    Male   17  63333.0  New York  Northeast   \n",
       "3       C004    Male   34  58030.0   Chicago    Midwest   \n",
       "4       C005    Male   30  78889.0   Houston    Midwest   \n",
       "\n",
       "   Frequency_of_Purchases  Average_Purchase_Amount Customer_Lifespan_Months  \\\n",
       "0                      10                   98.241                        3   \n",
       "1                      15                  157.640                        4   \n",
       "2                       1                   41.252                        1   \n",
       "3                       6                   67.329                        1   \n",
       "4                       3                   52.763                        1   \n",
       "\n",
       "  Purchase_Channel Date_of_Purchase Churn_Status  \n",
       "0           Online       2022-03-05          Yes  \n",
       "1         In-store       2023-07-08          Yes  \n",
       "2           Online       2023-01-30           No  \n",
       "3         In-store       2023-06-01           No  \n",
       "4           Online       2022-09-23           No  "
      ]
     },
     "execution_count": 3,
     "metadata": {},
     "output_type": "execute_result"
    }
   ],
   "source": [
    "data = pd.read_excel('customer_data.xlsx')\n",
    "data.head()"
   ]
  },
  {
   "cell_type": "code",
   "execution_count": null,
   "metadata": {},
   "outputs": [
    {
     "name": "stdout",
     "output_type": "stream",
     "text": [
      "missing values:\n"
     ]
    },
    {
     "data": {
      "text/plain": [
       "CustomerID                  0\n",
       "Gender                      0\n",
       "Age                         0\n",
       "Income                      5\n",
       "City                        3\n",
       "Region                      0\n",
       "Frequency_of_Purchases      0\n",
       "Average_Purchase_Amount     0\n",
       "Customer_Lifespan_Months    0\n",
       "Purchase_Channel            0\n",
       "Date_of_Purchase            0\n",
       "Churn_Status                0\n",
       "dtype: int64"
      ]
     },
     "execution_count": 4,
     "metadata": {},
     "output_type": "execute_result"
    }
   ],
   "source": [
    "#first important task of data cleaning is getting rid of the null and empty values\n",
    "missing_values = data.isnull().sum() #adding up all the missing values per section.\n",
    "print(\"missing values:\") # just a title\n",
    "missing_values"
   ]
  },
  {
   "cell_type": "code",
   "execution_count": 5,
   "metadata": {},
   "outputs": [],
   "source": [
    "from sklearn.impute import SimpleImputer"
   ]
  },
  {
   "cell_type": "code",
   "execution_count": null,
   "metadata": {},
   "outputs": [],
   "source": [
    "imputer = SimpleImputer(strategy = 'median') #picking the imputer strategy (This will impute missing values with the median Salary of the data set.)\n",
    "imputer.fit(data[['Income']])   #fitting the imputer to the data\n",
    "data[['Income']] = imputer.transform(data[['Income']])  #transforming the data"
   ]
  },
  {
   "cell_type": "code",
   "execution_count": null,
   "metadata": {},
   "outputs": [],
   "source": [
    "imputer_2 = SimpleImputer(strategy = 'most_frequent') #picking the imputer strategy (This will impute missing values with the most frequent city of the data set.)\n",
    "imputer_2.fit(data[['City']])\n",
    "data[['City']] = imputer_2.transform(data[['City']])"
   ]
  },
  {
   "cell_type": "code",
   "execution_count": 8,
   "metadata": {},
   "outputs": [
    {
     "name": "stdout",
     "output_type": "stream",
     "text": [
      "missing values:\n"
     ]
    },
    {
     "data": {
      "text/plain": [
       "CustomerID                  0\n",
       "Gender                      0\n",
       "Age                         0\n",
       "Income                      0\n",
       "City                        0\n",
       "Region                      0\n",
       "Frequency_of_Purchases      0\n",
       "Average_Purchase_Amount     0\n",
       "Customer_Lifespan_Months    0\n",
       "Purchase_Channel            0\n",
       "Date_of_Purchase            0\n",
       "Churn_Status                0\n",
       "dtype: int64"
      ]
     },
     "execution_count": 8,
     "metadata": {},
     "output_type": "execute_result"
    }
   ],
   "source": [
    "missing_values = data.isnull().sum() #adding up all the missing values per section again. \n",
    "print(\"missing values:\") # just a title\n",
    "missing_values #to ensure the missing values are gone/ have been imputed."
   ]
  }
 ],
 "metadata": {
  "kernelspec": {
   "display_name": "Python 3",
   "language": "python",
   "name": "python3"
  },
  "language_info": {
   "codemirror_mode": {
    "name": "ipython",
    "version": 3
   },
   "file_extension": ".py",
   "mimetype": "text/x-python",
   "name": "python",
   "nbconvert_exporter": "python",
   "pygments_lexer": "ipython3",
   "version": "3.11.0"
  }
 },
 "nbformat": 4,
 "nbformat_minor": 2
}
