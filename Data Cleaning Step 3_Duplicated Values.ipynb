{
 "cells": [
  {
   "cell_type": "code",
   "execution_count": 1,
   "metadata": {},
   "outputs": [],
   "source": [
    "import pandas as pd\n",
    "import numpy as np\n",
    "from sklearn.impute import SimpleImputer"
   ]
  },
  {
   "cell_type": "code",
   "execution_count": 2,
   "metadata": {},
   "outputs": [],
   "source": [
    "data = pd.read_excel('customer_data.xlsx') # read the data"
   ]
  },
  {
   "cell_type": "code",
   "execution_count": 3,
   "metadata": {},
   "outputs": [
    {
     "data": {
      "text/html": [
       "<div>\n",
       "<style scoped>\n",
       "    .dataframe tbody tr th:only-of-type {\n",
       "        vertical-align: middle;\n",
       "    }\n",
       "\n",
       "    .dataframe tbody tr th {\n",
       "        vertical-align: top;\n",
       "    }\n",
       "\n",
       "    .dataframe thead th {\n",
       "        text-align: right;\n",
       "    }\n",
       "</style>\n",
       "<table border=\"1\" class=\"dataframe\">\n",
       "  <thead>\n",
       "    <tr style=\"text-align: right;\">\n",
       "      <th></th>\n",
       "      <th>CustomerID</th>\n",
       "      <th>Gender</th>\n",
       "      <th>Age</th>\n",
       "      <th>Income</th>\n",
       "      <th>City</th>\n",
       "      <th>Region</th>\n",
       "      <th>Frequency_of_Purchases</th>\n",
       "      <th>Average_Purchase_Amount</th>\n",
       "      <th>Customer_Lifespan_Months</th>\n",
       "      <th>Purchase_Channel</th>\n",
       "      <th>Date_of_Purchase</th>\n",
       "      <th>Churn_Status</th>\n",
       "    </tr>\n",
       "  </thead>\n",
       "  <tbody>\n",
       "    <tr>\n",
       "      <th>80</th>\n",
       "      <td>C021</td>\n",
       "      <td>Female</td>\n",
       "      <td>22</td>\n",
       "      <td>41743.0</td>\n",
       "      <td>Los Angeles</td>\n",
       "      <td>Northeast</td>\n",
       "      <td>4</td>\n",
       "      <td>54.599</td>\n",
       "      <td>1</td>\n",
       "      <td>Online</td>\n",
       "      <td>2023-06-08</td>\n",
       "      <td>No</td>\n",
       "    </tr>\n",
       "  </tbody>\n",
       "</table>\n",
       "</div>"
      ],
      "text/plain": [
       "   CustomerID  Gender  Age   Income         City     Region  \\\n",
       "80       C021  Female   22  41743.0  Los Angeles  Northeast   \n",
       "\n",
       "    Frequency_of_Purchases  Average_Purchase_Amount Customer_Lifespan_Months  \\\n",
       "80                       4                   54.599                        1   \n",
       "\n",
       "   Purchase_Channel Date_of_Purchase Churn_Status  \n",
       "80           Online       2023-06-08           No  "
      ]
     },
     "execution_count": 3,
     "metadata": {},
     "output_type": "execute_result"
    }
   ],
   "source": [
    "duplicates = data.duplicated()\n",
    "data[duplicates] # check for duplicates"
   ]
  },
  {
   "cell_type": "code",
   "execution_count": 5,
   "metadata": {},
   "outputs": [
    {
     "name": "stderr",
     "output_type": "stream",
     "text": [
      "C:\\Users\\12406\\AppData\\Local\\Temp\\ipykernel_28832\\1852655133.py:2: UserWarning: Boolean Series key will be reindexed to match DataFrame index.\n",
      "  data[duplicates] # check for duplicates\n"
     ]
    },
    {
     "data": {
      "text/html": [
       "<div>\n",
       "<style scoped>\n",
       "    .dataframe tbody tr th:only-of-type {\n",
       "        vertical-align: middle;\n",
       "    }\n",
       "\n",
       "    .dataframe tbody tr th {\n",
       "        vertical-align: top;\n",
       "    }\n",
       "\n",
       "    .dataframe thead th {\n",
       "        text-align: right;\n",
       "    }\n",
       "</style>\n",
       "<table border=\"1\" class=\"dataframe\">\n",
       "  <thead>\n",
       "    <tr style=\"text-align: right;\">\n",
       "      <th></th>\n",
       "      <th>CustomerID</th>\n",
       "      <th>Gender</th>\n",
       "      <th>Age</th>\n",
       "      <th>Income</th>\n",
       "      <th>City</th>\n",
       "      <th>Region</th>\n",
       "      <th>Frequency_of_Purchases</th>\n",
       "      <th>Average_Purchase_Amount</th>\n",
       "      <th>Customer_Lifespan_Months</th>\n",
       "      <th>Purchase_Channel</th>\n",
       "      <th>Date_of_Purchase</th>\n",
       "      <th>Churn_Status</th>\n",
       "    </tr>\n",
       "  </thead>\n",
       "  <tbody>\n",
       "  </tbody>\n",
       "</table>\n",
       "</div>"
      ],
      "text/plain": [
       "Empty DataFrame\n",
       "Columns: [CustomerID, Gender, Age, Income, City, Region, Frequency_of_Purchases, Average_Purchase_Amount, Customer_Lifespan_Months, Purchase_Channel, Date_of_Purchase, Churn_Status]\n",
       "Index: []"
      ]
     },
     "execution_count": 5,
     "metadata": {},
     "output_type": "execute_result"
    }
   ],
   "source": [
    "data.drop_duplicates(inplace = True)\n",
    "data[duplicates] # check for duplicates"
   ]
  }
 ],
 "metadata": {
  "kernelspec": {
   "display_name": "Python 3",
   "language": "python",
   "name": "python3"
  },
  "language_info": {
   "codemirror_mode": {
    "name": "ipython",
    "version": 3
   },
   "file_extension": ".py",
   "mimetype": "text/x-python",
   "name": "python",
   "nbconvert_exporter": "python",
   "pygments_lexer": "ipython3",
   "version": "3.11.0"
  }
 },
 "nbformat": 4,
 "nbformat_minor": 2
}
